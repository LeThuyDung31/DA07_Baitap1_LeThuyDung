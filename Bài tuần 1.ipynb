{
 "cells": [
  {
   "cell_type": "code",
   "execution_count": 15,
   "id": "d92041e7",
   "metadata": {},
   "outputs": [
    {
     "name": "stdout",
     "output_type": "stream",
     "text": [
      "Xin chào Ms Lê\n",
      "Tên in trên vé của bạn là Lê Thùy Dung\n",
      "Số ghế của bạn là 100\n",
      "Bạn năm nay 22 tuổi\n"
     ]
    }
   ],
   "source": [
    "so_ghe = 99\n",
    "def user_name(ho,ten_dem,ten_goi,nam_sinh):\n",
    "    print(\"Xin chào Ms\",ho)\n",
    "    print(\"Tên in trên vé của bạn là\",ho,ten_dem,ten_goi)\n",
    "    global so_ghe\n",
    "    so_ghe = so_ghe + 1\n",
    "    print(\"Số ghế của bạn là\",so_ghe)\n",
    "    print(\"Bạn năm nay\",2022 - nam_sinh,\"tuổi\")\n",
    "user_name(\"Lê\",\"Thùy\",\"Dung\",2000)  \n"
   ]
  },
  {
   "cell_type": "code",
   "execution_count": 16,
   "id": "ff0c24ac",
   "metadata": {},
   "outputs": [
    {
     "name": "stdout",
     "output_type": "stream",
     "text": [
      "Xin chào Ms Trần\n",
      "Tên in trên vé của bạn là Trần Hoàng Lâm\n",
      "Số ghế của bạn là 101\n",
      "Bạn năm nay 22 tuổi\n"
     ]
    }
   ],
   "source": [
    "\n",
    "user_name(\"Trần\",\"Hoàng\",\"Lâm\",2000)"
   ]
  }
 ],
 "metadata": {
  "kernelspec": {
   "display_name": "Python 3 (ipykernel)",
   "language": "python",
   "name": "python3"
  },
  "language_info": {
   "codemirror_mode": {
    "name": "ipython",
    "version": 3
   },
   "file_extension": ".py",
   "mimetype": "text/x-python",
   "name": "python",
   "nbconvert_exporter": "python",
   "pygments_lexer": "ipython3",
   "version": "3.9.13"
  }
 },
 "nbformat": 4,
 "nbformat_minor": 5
}
